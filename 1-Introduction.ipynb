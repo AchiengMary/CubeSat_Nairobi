{
 "cells": [
  {
   "cell_type": "markdown",
   "id": "66fd5795-91cb-49b1-9cc5-3031178b6faf",
   "metadata": {},
   "source": [
    "# Notebook 1: Introduction"
   ]
  },
  {
   "cell_type": "markdown",
   "id": "8d8f753b-4da2-4a51-9eb8-62edae1e0ac2",
   "metadata": {},
   "source": [
    "Welcome! The main goal of this notebook is to provide a clear understanding of the problem at hand to prepare for the hackathon."
   ]
  },
  {
   "cell_type": "markdown",
   "id": "904d0317-af00-4c9a-a2f9-a81cd1f5bd82",
   "metadata": {},
   "source": [
    "---"
   ]
  },
  {
   "cell_type": "markdown",
   "id": "7051d103-0fb8-4247-94d3-f138ecd2e345",
   "metadata": {},
   "source": [
    "## Probelm Description"
   ]
  },
  {
   "cell_type": "markdown",
   "id": "ae1b4465-9fc3-4a5f-ac8f-d830d0961d1b",
   "metadata": {},
   "source": [
    "Nanosatellites are increasing as low-cost dedicated sensing systems with poor development cycles. Kyushu Institute of Technology (Kyutech) and collaborators have launched a joint venture for a nanosatellite mission , Visible Extragalactic background RadiaTion Exploration by CubeSat (**VERTECS**). The primary mission is to elucidate the formation history of stars by observing the optical-wavelength cosmic background radiation. The **VERTECS** satellite will be equipped with a small-aperture telescope and a high-precision attitude control system to capture the astronomical data for analysis on the ground."
   ]
  },
  {
   "cell_type": "markdown",
   "id": "bc88efda-4eee-428e-a1ed-3471854c36ba",
   "metadata": {},
   "source": [
    " However, nanosatellites/CubeSats have one prominent disadvantage lies in their size and weight constraints. Being small and compact significantly affects the computational power and onboard storage capacity available for data processing and analysis during missions. Moreover, the small surface area leaves limited space for communication equipment. This can make it hard for them to maintain strong connections with ground stations, leading to slower data transmission. As a result, they may not be able to send large amounts of data quickly, which can be a problem for missions needing fast or continuous data updates. "
   ]
  },
  {
   "cell_type": "markdown",
   "id": "0e6d695e-0417-4cf8-a9f2-dd80be5c5dd0",
   "metadata": {},
   "source": [
    "To solve the problem of slow data transmission in CubeSats, we can use machine learning techniques directly on the satellite. This allows the CubeSat to select **`priority`** data before sending it to the ground, making the process more efficient."
   ]
  },
  {
   "cell_type": "markdown",
   "id": "6df0ebdb-6ec0-4c69-bee9-9e6bd7c7104b",
   "metadata": {},
   "source": [
    "## The goal of this Hackathon "
   ]
  },
  {
   "cell_type": "markdown",
   "id": "86361887-c914-41c4-9714-a7160426f825",
   "metadata": {},
   "source": [
    "Develop a machine learning model that accurately classifies data captured by CubeSats. The goal is to prioritize which images are most valuable for transmission back to Earth, given the limited onboard resources and slow data downlink speeds. Your task is to create a lightweight, efficient model that improves upon the classification accuracy of the existing solution in this [paper](https://ui.adsabs.harvard.edu/abs/2023SPIE12729E..0KC/abstract)."
   ]
  },
  {
   "cell_type": "markdown",
   "id": "72d4d1ee-eb25-4dc3-96f7-560ec65277f2",
   "metadata": {},
   "source": [
    "### Prizes"
   ]
  },
  {
   "cell_type": "code",
   "execution_count": null,
   "id": "e32adbf1-da6a-467d-b26f-81b6983293c5",
   "metadata": {},
   "outputs": [],
   "source": []
  },
  {
   "cell_type": "markdown",
   "id": "41726447-4d9a-4c46-b58b-d300066995d5",
   "metadata": {},
   "source": [
    "## Structure for the Upcoming Notebooks"
   ]
  },
  {
   "cell_type": "markdown",
   "id": "7efe61d6-e918-44b7-907b-550a8b801967",
   "metadata": {},
   "source": [
    "\n",
    "- Notebook 2: Reading Data\n"
   ]
  },
  {
   "cell_type": "markdown",
   "id": "73004b8f-580f-49cc-a3da-d44429f94c92",
   "metadata": {},
   "source": [
    "---"
   ]
  }
 ],
 "metadata": {
  "kernelspec": {
   "display_name": "CubeHackKer",
   "language": "python",
   "name": "cubehackker"
  },
  "language_info": {
   "codemirror_mode": {
    "name": "ipython",
    "version": 3
   },
   "file_extension": ".py",
   "mimetype": "text/x-python",
   "name": "python",
   "nbconvert_exporter": "python",
   "pygments_lexer": "ipython3",
   "version": "3.10.12"
  }
 },
 "nbformat": 4,
 "nbformat_minor": 5
}
