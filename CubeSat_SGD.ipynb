{
  "nbformat": 4,
  "nbformat_minor": 0,
  "metadata": {
    "colab": {
      "provenance": [],
      "authorship_tag": "ABX9TyPd54cM5nfG5GKZa6CPsRTV",
      "include_colab_link": true
    },
    "kernelspec": {
      "name": "python3",
      "display_name": "Python 3"
    },
    "language_info": {
      "name": "python"
    }
  },
  "cells": [
    {
      "cell_type": "markdown",
      "metadata": {
        "id": "view-in-github",
        "colab_type": "text"
      },
      "source": [
        "<a href=\"https://colab.research.google.com/github/AchiengMary/CubeSat_Nairobi/blob/main/CubeSat_SGD.ipynb\" target=\"_parent\"><img src=\"https://colab.research.google.com/assets/colab-badge.svg\" alt=\"Open In Colab\"/></a>"
      ]
    },
    {
      "cell_type": "code",
      "source": [
        "!pip install gdown"
      ],
      "metadata": {
        "colab": {
          "base_uri": "https://localhost:8080/"
        },
        "id": "NPSLXEdvKn3l",
        "outputId": "0c48d9f4-b1cc-4967-81c9-6e3b1ca8d41c"
      },
      "execution_count": 2,
      "outputs": [
        {
          "output_type": "stream",
          "name": "stdout",
          "text": [
            "Requirement already satisfied: gdown in /usr/local/lib/python3.11/dist-packages (5.2.0)\n",
            "Requirement already satisfied: beautifulsoup4 in /usr/local/lib/python3.11/dist-packages (from gdown) (4.13.3)\n",
            "Requirement already satisfied: filelock in /usr/local/lib/python3.11/dist-packages (from gdown) (3.17.0)\n",
            "Requirement already satisfied: requests[socks] in /usr/local/lib/python3.11/dist-packages (from gdown) (2.32.3)\n",
            "Requirement already satisfied: tqdm in /usr/local/lib/python3.11/dist-packages (from gdown) (4.67.1)\n",
            "Requirement already satisfied: soupsieve>1.2 in /usr/local/lib/python3.11/dist-packages (from beautifulsoup4->gdown) (2.6)\n",
            "Requirement already satisfied: typing-extensions>=4.0.0 in /usr/local/lib/python3.11/dist-packages (from beautifulsoup4->gdown) (4.12.2)\n",
            "Requirement already satisfied: charset-normalizer<4,>=2 in /usr/local/lib/python3.11/dist-packages (from requests[socks]->gdown) (3.4.1)\n",
            "Requirement already satisfied: idna<4,>=2.5 in /usr/local/lib/python3.11/dist-packages (from requests[socks]->gdown) (3.10)\n",
            "Requirement already satisfied: urllib3<3,>=1.21.1 in /usr/local/lib/python3.11/dist-packages (from requests[socks]->gdown) (2.3.0)\n",
            "Requirement already satisfied: certifi>=2017.4.17 in /usr/local/lib/python3.11/dist-packages (from requests[socks]->gdown) (2025.1.31)\n",
            "Requirement already satisfied: PySocks!=1.5.7,>=1.5.6 in /usr/local/lib/python3.11/dist-packages (from requests[socks]->gdown) (1.7.1)\n"
          ]
        }
      ]
    },
    {
      "cell_type": "code",
      "source": [
        "!gdown --id 1D8xF3yCe8Vq4XojnSvswiBByCU9XT7Ux"
      ],
      "metadata": {
        "colab": {
          "base_uri": "https://localhost:8080/"
        },
        "id": "lfdCHt4PKtBK",
        "outputId": "0c8125c3-85ac-4b0e-b5ac-a5f545d9dcbc"
      },
      "execution_count": 8,
      "outputs": [
        {
          "output_type": "stream",
          "name": "stdout",
          "text": [
            "/usr/local/lib/python3.11/dist-packages/gdown/__main__.py:140: FutureWarning: Option `--id` was deprecated in version 4.3.1 and will be removed in 5.0. You don't need to pass it anymore to use a file ID.\n",
            "  warnings.warn(\n",
            "Downloading...\n",
            "From (original): https://drive.google.com/uc?id=1D8xF3yCe8Vq4XojnSvswiBByCU9XT7Ux\n",
            "From (redirected): https://drive.google.com/uc?id=1D8xF3yCe8Vq4XojnSvswiBByCU9XT7Ux&confirm=t&uuid=a29bb4b1-2dba-457b-b19d-fdbd6f856cc2\n",
            "To: /content/DSRH.zip\n",
            "100% 2.33G/2.33G [00:38<00:00, 61.1MB/s]\n"
          ]
        }
      ]
    },
    {
      "cell_type": "code",
      "source": [
        "!unzip DSRH.zip -d CubeSat"
      ],
      "metadata": {
        "colab": {
          "base_uri": "https://localhost:8080/"
        },
        "id": "CI-fPY2wPf6u",
        "outputId": "98fa00e6-87f0-438f-c8d5-c43ef72870eb"
      },
      "execution_count": 9,
      "outputs": [
        {
          "output_type": "stream",
          "name": "stdout",
          "text": [
            "Archive:  DSRH.zip\n",
            "   creating: CubeSat/DSRH/\n",
            "  inflating: CubeSat/DSRH/test_images1.npy  \n",
            "  inflating: CubeSat/DSRH/test_labels.npy  \n",
            "  inflating: CubeSat/DSRH/train_images.npy  \n",
            "  inflating: CubeSat/DSRH/train_labels.npy  \n",
            "  inflating: CubeSat/DSRH/val_images.npy  \n",
            "  inflating: CubeSat/DSRH/val_labels.npy  \n"
          ]
        }
      ]
    },
    {
      "cell_type": "code",
      "source": [
        "import matplotlib.pyplot as plt  # Importing Matplotlib for creating visualizations and plots.\n",
        "import random  # Importing the 'random' module for generating random numbers and making random selections.\n",
        "import numpy as np  # Importing NumPy, a library for numerical operations, used here for handling and manipulating image data arrays."
      ],
      "metadata": {
        "id": "hfpXjvDORmNe"
      },
      "execution_count": 10,
      "outputs": []
    },
    {
      "cell_type": "code",
      "source": [
        "import numpy as np\n",
        "\n",
        "# Load the datasets\n",
        "train_images = np.load('CubeSat/DSRH/train_images.npy')\n",
        "train_labels = np.load('CubeSat/DSRH/train_labels.npy')\n",
        "val_images = np.load('CubeSat/DSRH/val_images.npy')\n",
        "val_labels = np.load('CubeSat/DSRH/val_labels.npy')\n",
        "test_images = np.load('CubeSat/DSRH/test_images1.npy')\n",
        "test_labels = np.load('CubeSat/DSRH/test_labels.npy')\n",
        "\n",
        "# Print basic information about each dataset\n",
        "print(f\"Training images: {train_images.shape}, Training labels: {train_labels.shape}\")\n",
        "print(f\"Validation images: {val_images.shape}, Validation labels: {val_labels.shape}\")\n",
        "print(f\"Testing images: {test_images.shape}, Testing labels: {test_labels.shape}\")"
      ],
      "metadata": {
        "id": "6yX4MrjyRtVc"
      },
      "execution_count": null,
      "outputs": []
    },
    {
      "cell_type": "code",
      "source": [
        "# Define the class names\n",
        "class_names = [\"Blurry\", \"Corrupt\", \"Missing_Data\", \"Noisy\", \"Priority\"]\n",
        "\n",
        "# Get the unique labels in the training set\n",
        "unique_labels = np.unique(train_labels)\n",
        "\n",
        "\n",
        "# Display the first 5 images for each class\n",
        "for label in unique_labels:\n",
        "    # Find the indices of images belonging to the current class\n",
        "    class_indices = np.where(train_labels == label)[0]\n",
        "\n",
        "    # Select the first 5 images of this class\n",
        "    num_images_to_display = min(5, len(class_indices))\n",
        "    selected_indices = class_indices[:num_images_to_display]\n",
        "    selected_images = train_images[selected_indices] / 255.0  # Normalize images for better visualization\n",
        "\n",
        "    # Plot the selected images\n",
        "    fig, axes = plt.subplots(1, num_images_to_display, figsize=(20, 4))\n",
        "    fig.suptitle(f'Class: {class_names[label]}', fontsize=16)\n",
        "    fig.tight_layout(rect=[0, 0.03, 1, 0.95])\n",
        "\n",
        "    for i, ax in enumerate(axes):\n",
        "        ax.imshow(selected_images[i])\n",
        "        ax.axis('off')\n",
        "\n",
        "    plt.show()\n",
        "    print()"
      ],
      "metadata": {
        "id": "cdcqyh8ySZIa"
      },
      "execution_count": null,
      "outputs": []
    },
    {
      "cell_type": "code",
      "source": [
        "import numpy as np  # Importing NumPy for numerical operations and array handling\n",
        "\n",
        "# Load the images and labels back from the saved NumPy files\n",
        "train_images = np.load('data/train_images.npy')  # Load image training data\n",
        "train_labels = np.load('data/train_labels.npy')  # Load label training data\n",
        "\n",
        "\n",
        "print(\"Data loaded successfully from NumPy files.\")"
      ],
      "metadata": {
        "id": "OXPWfIfJRc3J"
      },
      "execution_count": null,
      "outputs": []
    }
  ]
}