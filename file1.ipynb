{
  "nbformat": 4,
  "nbformat_minor": 0,
  "metadata": {
    "colab": {
      "provenance": [],
      "authorship_tag": "ABX9TyOOy0Uvbhp0ee/5UpJ1P/hx",
      "include_colab_link": true
    },
    "kernelspec": {
      "name": "python3",
      "display_name": "Python 3"
    },
    "language_info": {
      "name": "python"
    }
  },
  "cells": [
    {
      "cell_type": "markdown",
      "metadata": {
        "id": "view-in-github",
        "colab_type": "text"
      },
      "source": [
        "<a href=\"https://colab.research.google.com/github/AchiengMary/CubeSat_Nairobi/blob/main/file1.ipynb\" target=\"_parent\"><img src=\"https://colab.research.google.com/assets/colab-badge.svg\" alt=\"Open In Colab\"/></a>"
      ]
    },
    {
      "cell_type": "code",
      "execution_count": null,
      "metadata": {
        "id": "r02AEHKbnJcV"
      },
      "outputs": [],
      "source": [
        "import numpy as np\n",
        "import tensorflow as tf\n",
        "from tensorflow.keras.models import Sequential\n",
        "from tensorflow.keras.layers import (\n",
        "    Conv2D, MaxPooling2D, GlobalAveragePooling2D, Dense, BatchNormalization, Dropout\n",
        ")\n",
        "from tensorflow.keras.applications import MobileNetV3Small\n",
        "from tensorflow.keras.callbacks import ReduceLROnPlateau, EarlyStopping\n",
        "from tensorflow.keras.regularizers import l2\n",
        "\n",
        "# Load images & labels\n",
        "train_images = np.load('data/train_images.npy')\n",
        "train_labels = np.load('data/train_labels.npy')\n",
        "val_images = np.load('data/val_images.npy')\n",
        "val_labels = np.load('data/val_labels.npy')\n",
        "test_images = np.load('data/test_images.npy')\n",
        "test_labels = np.load('data/test_labels.npy')\n",
        "\n",
        "# Normalize images (convert pixels to range [0,1])\n",
        "train_images = train_images.astype(\"float32\") / 255.0\n",
        "val_images = val_images.astype(\"float32\") / 255.0\n",
        "test_images = test_images.astype(\"float32\") / 255.0\n",
        "\n",
        "# Convert labels to categorical\n",
        "num_classes = 5\n",
        "train_labels = tf.keras.utils.to_categorical(train_labels, num_classes)\n",
        "val_labels = tf.keras.utils.to_categorical(val_labels, num_classes)\n",
        "test_labels = tf.keras.utils.to_categorical(test_labels, num_classes)\n",
        "\n",
        "# Convert NumPy arrays to tf.data pipeline (more efficient)\n",
        "batch_size = 32\n",
        "train_dataset = tf.data.Dataset.from_tensor_slices((train_images, train_labels)).shuffle(len(train_images)).batch(batch_size).prefetch(tf.data.AUTOTUNE)\n",
        "val_dataset = tf.data.Dataset.from_tensor_slices((val_images, val_labels)).batch(batch_size).prefetch(tf.data.AUTOTUNE)\n",
        "test_dataset = tf.data.Dataset.from_tensor_slices((test_images, test_labels)).batch(batch_size).prefetch(tf.data.AUTOTUNE)\n",
        "\n",
        "# Load MobileNetV3 (lightweight pre-trained model)\n",
        "base_model = MobileNetV3Small(weights=\"imagenet\", include_top=False, input_shape=(224, 224, 3))\n",
        "base_model.trainable = False  # Freeze layers to use as feature extractor\n",
        "\n",
        "# Define optimized model\n",
        "model = Sequential([\n",
        "    base_model,\n",
        "    GlobalAveragePooling2D(),\n",
        "    Dense(128, activation=\"relu\", kernel_regularizer=l2(0.01)),  # L2 regularization\n",
        "    BatchNormalization(),\n",
        "    Dropout(0.5),  # Increased dropout to prevent overfitting\n",
        "    Dense(num_classes, activation=\"softmax\")\n",
        "])\n",
        "\n",
        "# Compile model\n",
        "model.compile(optimizer=tf.keras.optimizers.Adam(learning_rate=0.0005),\n",
        "              loss=\"categorical_crossentropy\", metrics=[\"accuracy\"])\n",
        "\n",
        "# Callbacks to reduce learning rate and stop early if no improvement\n",
        "callbacks = [\n",
        "    ReduceLROnPlateau(monitor=\"val_loss\", factor=0.5, patience=2, verbose=1),\n",
        "    EarlyStopping(monitor=\"val_loss\", patience=5, restore_best_weights=True)  # Stops training if validation loss doesn't improve\n",
        "]\n",
        "\n",
        "# Train model\n",
        "history = model.fit(\n",
        "    train_dataset,\n",
        "    validation_data=val_dataset,\n",
        "    epochs=20,\n",
        "    callbacks=callbacks\n",
        ")\n",
        "\n",
        "# Evaluate on test dataset\n",
        "test_loss, test_accuracy = model.evaluate(test_dataset)\n",
        "print(f\"Test Accuracy: {test_accuracy:.4f}\")\n",
        "print(f\"Test Loss: {test_loss:.4f}\")\n",
        "\n",
        "# Save the trained model\n",
        "model.save(\"cnn_model.keras\")"
      ]
    }
  ]
}